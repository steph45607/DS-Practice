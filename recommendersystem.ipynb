{
 "cells": [
  {
   "cell_type": "markdown",
   "metadata": {
    "id": "8ZonY_oYNjt_"
   },
   "source": [
    "<b>USER BASED RECOMMENDER SYSTEM"
   ]
  },
  {
   "cell_type": "markdown",
   "metadata": {
    "id": "k5Xr9Dv4NjuF"
   },
   "source": [
    "Steps in a user-based recommendation system:\n",
    "\n",
    "1. Select a user with the movies the user has watched\n",
    "2. Based on his rating to movies, find the top x neighbours\n",
    "3. Get the watched movie record of the user for each neighbour.\n",
    "4. Calculate a similarity score using some formula\n",
    "5. Recommend the items with the highest score"
   ]
  },
  {
   "cell_type": "code",
   "execution_count": 3,
   "metadata": {
    "id": "m32700SVNjuL"
   },
   "outputs": [],
   "source": [
    "import pandas as pd\n",
    "from math import sqrt\n",
    "import numpy as np"
   ]
  },
  {
   "cell_type": "code",
   "execution_count": 4,
   "metadata": {
    "colab": {
     "base_uri": "https://localhost:8080/"
    },
    "id": "maXzLmxGNjuO",
    "outputId": "56e5ab06-19e8-44e0-c078-1b43cd5d094e"
   },
   "outputs": [],
   "source": [
    "ratings_df = pd.read_csv('joinedUserReview.csv')"
   ]
  },
  {
   "cell_type": "code",
   "execution_count": 5,
   "metadata": {
    "colab": {
     "base_uri": "https://localhost:8080/"
    },
    "id": "gW_QBJHLNjuP",
    "outputId": "8a2fb439-31cc-4c8d-d511-3cab2f9cdf02"
   },
   "outputs": [
    {
     "name": "stdout",
     "output_type": "stream",
     "text": [
      "                              title  rating\n",
      "0                              1984       4\n",
      "1               A Child Called \"It\"       3\n",
      "2              A Conjuring of Light       2\n",
      "3                          Mistborn       5\n",
      "4  The Ocean at the End of the Lane       1\n"
     ]
    }
   ],
   "source": [
    "userInput = [{'title':'1984', 'rating':4},\n",
    "             {'title':'A Child Called \"It\"', 'rating':3},\n",
    "             {'title':'A Conjuring of Light', 'rating':2},\n",
    "             {'title':'Mistborn', 'rating':5},\n",
    "             {'title':'The Ocean at the End of the Lane', 'rating':1}]\n",
    "inputBooks = pd.DataFrame(userInput)\n",
    "print(inputBooks)"
   ]
  },
  {
   "cell_type": "code",
   "execution_count": 6,
   "metadata": {
    "colab": {
     "base_uri": "https://localhost:8080/"
    },
    "id": "SFApFIiDNjuR",
    "outputId": "a8fde0a4-b7db-434a-e665-c89ee59d5fa9"
   },
   "outputs": [
    {
     "name": "stdout",
     "output_type": "stream",
     "text": [
      "      UserID                             Title          ISBN  Rating\n",
      "0          1                          Mistborn           NaN       5\n",
      "68         1              A Conjuring of Light           NaN       2\n",
      "516        1                              1984           NaN       4\n",
      "554        2                          Mistborn  9.780765e+12       5\n",
      "633        2                              1984           NaN       4\n",
      "1124       2               A Child Called \"It\"           NaN       5\n",
      "1695       3              A Conjuring of Light  9.780765e+12       3\n",
      "1835       3  The Ocean at the End of the Lane  9.781472e+12       4\n",
      "1951       3                              1984  9.780141e+12       5\n",
      "3218       3               A Child Called \"It\"           NaN       4\n",
      "7177       5              A Conjuring of Light  9.780765e+12       5\n",
      "7670       5  The Ocean at the End of the Lane           NaN       5\n",
      "                              title  rating\n",
      "0                              1984       4\n",
      "1               A Child Called \"It\"       3\n",
      "2              A Conjuring of Light       2\n",
      "3                          Mistborn       5\n",
      "4  The Ocean at the End of the Lane       1\n"
     ]
    }
   ],
   "source": [
    "inputId = ratings_df[ratings_df['Title'].isin(inputBooks['title'].tolist())]\n",
    "print(inputId)\n",
    "inputBooks = inputBooks[['title','rating']]\n",
    "print(inputBooks)"
   ]
  },
  {
   "cell_type": "markdown",
   "metadata": {
    "id": "r_23sJ1vNjuS"
   },
   "source": [
    "#### Now with the `movieId` in our input, we can now get the subset of users that have watched and reviewed the movies in our input. Find the similar user taste."
   ]
  },
  {
   "cell_type": "code",
   "execution_count": 7,
   "metadata": {
    "colab": {
     "base_uri": "https://localhost:8080/"
    },
    "id": "BmGI-DmrNjuS",
    "outputId": "2a8aa4c0-6e33-4ca5-cbc4-62077f98bd49"
   },
   "outputs": [
    {
     "name": "stdout",
     "output_type": "stream",
     "text": [
      "                                  UserID  ISBN  Rating\n",
      "Title                                                 \n",
      "1984                                   3     1       3\n",
      "A Child Called \"It\"                    2     0       2\n",
      "A Conjuring of Light                   3     2       3\n",
      "Mistborn                               2     1       2\n",
      "The Ocean at the End of the Lane       2     1       2\n"
     ]
    }
   ],
   "source": [
    "userSubset = ratings_df[ratings_df['Title'].isin(inputBooks['title'].tolist())]\n",
    "print(userSubset.groupby('Title').count())"
   ]
  },
  {
   "cell_type": "code",
   "execution_count": 8,
   "metadata": {
    "colab": {
     "base_uri": "https://localhost:8080/"
    },
    "id": "-1566eb1NjuU",
    "outputId": "69a550bb-a743-496c-8bab-a90feb023b06"
   },
   "outputs": [
    {
     "name": "stdout",
     "output_type": "stream",
     "text": [
      "[(3,       UserID                             Title          ISBN  Rating\n",
      "1695       3              A Conjuring of Light  9.780765e+12       3\n",
      "1835       3  The Ocean at the End of the Lane  9.781472e+12       4\n",
      "1951       3                              1984  9.780141e+12       5\n",
      "3218       3               A Child Called \"It\"           NaN       4), (1,      UserID                 Title  ISBN  Rating\n",
      "0         1              Mistborn   NaN       5\n",
      "68        1  A Conjuring of Light   NaN       2\n",
      "516       1                  1984   NaN       4), (2,       UserID                Title          ISBN  Rating\n",
      "554        2             Mistborn  9.780765e+12       5\n",
      "633        2                 1984           NaN       4\n",
      "1124       2  A Child Called \"It\"           NaN       5), (5,       UserID                             Title          ISBN  Rating\n",
      "7177       5              A Conjuring of Light  9.780765e+12       5\n",
      "7670       5  The Ocean at the End of the Lane           NaN       5)]\n"
     ]
    }
   ],
   "source": [
    "userSubsetGroup = userSubset.groupby(['UserID'])\n",
    "\n",
    "def take_5_elem(x):\n",
    "    return len(x[1])\n",
    "    \n",
    "userSubsetGroup = sorted(userSubsetGroup, key=take_5_elem, reverse=True)\n",
    "\n",
    "userSubsetGroup = userSubsetGroup[0:100]\n",
    "print(userSubsetGroup[0:5])\n"
   ]
  },
  {
   "cell_type": "code",
   "execution_count": 9,
   "metadata": {
    "id": "h_KYBeMtNjuV"
   },
   "outputs": [],
   "source": [
    "#Store the Pearson Correlation in a dictionary, where the key is the user Id and the value is the coefficient\n",
    "pearsonCorrelationDict = {}\n",
    "\n",
    "#For every user group in our subset\n",
    "for name, group in userSubsetGroup:\n",
    "\n",
    "    #Let's start by sorting the input and current user group so the values aren't mixed up later on\n",
    "    group = group.sort_values(by='Title')\n",
    "    inputBooks = inputBooks.sort_values(by='title')\n",
    "\n",
    "    #Get the N for the formula\n",
    "    nRatings = len(group)\n",
    "\n",
    "    #Get the review scores for the movies that they both have in common\n",
    "    temp_df = inputBooks[inputBooks['title'].isin(group['Title'].tolist())]\n",
    "\n",
    "    #And then store them in a temporary buffer variable in a list format to facilitate future calculations\n",
    "    tempRatingList = temp_df['rating'].tolist()\n",
    "   \n",
    "    #Let's also put the current user group reviews in a list format\n",
    "    tempGroupList = group['Rating'].tolist()\n",
    "    for i in range(len(tempGroupList)):\n",
    "        tempGroupList[i] = float(tempGroupList[i])\n",
    "    \n",
    "    #Now let's calculate the pearson correlation between two users, so called, x and y manually (check the formula from week 7 slide)\n",
    "    Sxx = sum([i**2 for i in tempRatingList]) - pow(sum(tempRatingList),2)/float(nRatings)\n",
    "    Syy = sum([i**2 for i in tempGroupList]) - pow(sum(tempGroupList),2)/float(nRatings)\n",
    "    Sxy = sum( i*j for i, j in zip(tempRatingList, tempGroupList)) - sum(tempRatingList)*sum(tempGroupList)/float(nRatings)\n",
    "\n",
    "    #If the denominator is different than zero, then divide, else, 0 correlation.\n",
    "    if Sxx != 0 and Syy != 0:\n",
    "        pearsonCorrelationDict[name] = Sxy/sqrt(Sxx*Syy)\n",
    "    else:\n",
    "        pearsonCorrelationDict[name] = 0\n",
    "    \n"
   ]
  },
  {
   "cell_type": "code",
   "execution_count": 10,
   "metadata": {
    "colab": {
     "base_uri": "https://localhost:8080/"
    },
    "id": "Ozp4EqHsNjuX",
    "outputId": "890b43f3-99f9-4092-a6f1-bc49ad4218d7"
   },
   "outputs": [
    {
     "name": "stdout",
     "output_type": "stream",
     "text": [
      "   similarityIndex  UserID\n",
      "0         0.632456       3\n",
      "1         1.000000       1\n",
      "2         0.000000       2\n",
      "3         0.000000       5\n"
     ]
    }
   ],
   "source": [
    "pearsonDF = pd.DataFrame.from_dict(pearsonCorrelationDict, orient='index')\n",
    "pearsonDF.columns = ['similarityIndex']\n",
    "pearsonDF['UserID'] = pearsonDF.index\n",
    "pearsonDF.index = range(len(pearsonDF))\n",
    "print(pearsonDF.head())\n"
   ]
  },
  {
   "cell_type": "code",
   "execution_count": 11,
   "metadata": {
    "colab": {
     "base_uri": "https://localhost:8080/"
    },
    "id": "R89syb-KNjuY",
    "outputId": "2353f489-89af-4f8f-d03b-6b762a6ae355"
   },
   "outputs": [
    {
     "name": "stdout",
     "output_type": "stream",
     "text": [
      "   similarityIndex  UserID\n",
      "1         1.000000       1\n",
      "0         0.632456       3\n",
      "2         0.000000       2\n",
      "3         0.000000       5\n"
     ]
    }
   ],
   "source": [
    "topUsers=pearsonDF.sort_values(by='similarityIndex', ascending=False)[0:50]\n",
    "print(topUsers.head())"
   ]
  },
  {
   "cell_type": "code",
   "execution_count": 12,
   "metadata": {
    "colab": {
     "base_uri": "https://localhost:8080/"
    },
    "id": "Y5BLrcz7NjuZ",
    "outputId": "5bd49ea3-3d4a-4780-e3ca-566ba240d2d4"
   },
   "outputs": [
    {
     "name": "stdout",
     "output_type": "stream",
     "text": [
      "    similarityIndex  UserID                                      Title  \\\n",
      "0               1.0       1                                   Mistborn   \n",
      "1               1.0       1  Assassin's Quest: The Illustrated Edition   \n",
      "2               1.0       1                           The Blade Itself   \n",
      "3               1.0       1                     Last Argument of Kings   \n",
      "4               1.0       1                                 Warbreaker   \n",
      "..              ...     ...                                        ...   \n",
      "95              1.0       1                             The Great Hunt   \n",
      "96              1.0       1                                 The Heroes   \n",
      "97              1.0       1                            Fool's Assassin   \n",
      "98              1.0       1                            The Poison Song   \n",
      "99              1.0       1                       The Eye of the World   \n",
      "\n",
      "            ISBN  Rating  \n",
      "0            NaN       5  \n",
      "1   9.780593e+12       2  \n",
      "2   9.780575e+12       5  \n",
      "3   9.780575e+12       5  \n",
      "4   9.781939e+12       5  \n",
      "..           ...     ...  \n",
      "95           NaN       4  \n",
      "96  9.780575e+12       5  \n",
      "97  9.780007e+12       5  \n",
      "98           NaN       5  \n",
      "99           NaN       3  \n",
      "\n",
      "[100 rows x 5 columns]\n"
     ]
    }
   ],
   "source": [
    "topUsersRating=topUsers.merge(ratings_df, left_on='UserID', right_on='UserID', how='inner')\n",
    "print(topUsersRating.head(100))\n",
    "topUsersRating.to_csv('test.csv')"
   ]
  },
  {
   "cell_type": "code",
   "execution_count": 13,
   "metadata": {
    "colab": {
     "base_uri": "https://localhost:8080/"
    },
    "id": "xHTIZNdwNjuZ",
    "outputId": "cbf5e0c0-9f17-436f-9ce9-d3e9e0f542ac"
   },
   "outputs": [
    {
     "name": "stdout",
     "output_type": "stream",
     "text": [
      "   similarityIndex  UserID                                      Title  \\\n",
      "0              1.0       1                                   Mistborn   \n",
      "1              1.0       1  Assassin's Quest: The Illustrated Edition   \n",
      "2              1.0       1                           The Blade Itself   \n",
      "3              1.0       1                     Last Argument of Kings   \n",
      "4              1.0       1                                 Warbreaker   \n",
      "\n",
      "           ISBN  Rating  weightedRating  \n",
      "0           NaN       5             5.0  \n",
      "1  9.780593e+12       2             2.0  \n",
      "2  9.780575e+12       5             5.0  \n",
      "3  9.780575e+12       5             5.0  \n",
      "4  9.781939e+12       5             5.0  \n"
     ]
    }
   ],
   "source": [
    "#Multiplies the similarity by the user’s ratings\n",
    "topUsersRating['weightedRating'] = topUsersRating['similarityIndex']*topUsersRating['Rating']\n",
    "print(topUsersRating.head())"
   ]
  },
  {
   "cell_type": "code",
   "execution_count": 14,
   "metadata": {
    "colab": {
     "base_uri": "https://localhost:8080/"
    },
    "id": "nsQ624GXNjua",
    "outputId": "27f6df7a-0a87-45a6-fc5d-66355104d7c1"
   },
   "outputs": [
    {
     "name": "stdout",
     "output_type": "stream",
     "text": [
      "                         sum_similarityIndex  sum_weightedRating\n",
      "Title                                                           \n",
      "0 の奏香師 [0 no Soukoushi]             0.632456            2.529822\n",
      "01 Monkey                           0.632456            1.264911\n",
      "0x0 Memories                        0.632456            1.264911\n",
      "1/2 Ceremony                        0.632456            2.529822\n",
      "1/2 Engaged                         0.632456            2.529822\n"
     ]
    }
   ],
   "source": [
    "#Applies a sum to the topUsers after grouping it up by movieId\n",
    "tempTopUsersRating = topUsersRating.groupby('Title').sum()[['similarityIndex','weightedRating']]\n",
    "tempTopUsersRating.columns = ['sum_similarityIndex','sum_weightedRating']\n",
    "print(tempTopUsersRating.head())"
   ]
  },
  {
   "cell_type": "code",
   "execution_count": 15,
   "metadata": {
    "colab": {
     "base_uri": "https://localhost:8080/"
    },
    "id": "yFLw-nzNNjua",
    "outputId": "cfff0281-824b-4cfe-be3b-be8c731b300c"
   },
   "outputs": [
    {
     "name": "stdout",
     "output_type": "stream",
     "text": [
      "                         weighted average recommendation score  \\\n",
      "Title                                                            \n",
      "0 の奏香師 [0 no Soukoushi]                                    4.0   \n",
      "01 Monkey                                                  2.0   \n",
      "0x0 Memories                                               2.0   \n",
      "1/2 Ceremony                                               4.0   \n",
      "1/2 Engaged                                                4.0   \n",
      "1/2 Fairy                                                  2.0   \n",
      "1/2 Honeymoon                                              4.0   \n",
      "1/2 Wedding                                                4.0   \n",
      "1/3 Romantica                                              3.0   \n",
      "1/6000 HONESTY                                             4.0   \n",
      "\n",
      "                                           Title  \n",
      "Title                                             \n",
      "0 の奏香師 [0 no Soukoushi]  0 の奏香師 [0 no Soukoushi]  \n",
      "01 Monkey                              01 Monkey  \n",
      "0x0 Memories                        0x0 Memories  \n",
      "1/2 Ceremony                        1/2 Ceremony  \n",
      "1/2 Engaged                          1/2 Engaged  \n",
      "1/2 Fairy                              1/2 Fairy  \n",
      "1/2 Honeymoon                      1/2 Honeymoon  \n",
      "1/2 Wedding                          1/2 Wedding  \n",
      "1/3 Romantica                      1/3 Romantica  \n",
      "1/6000 HONESTY                    1/6000 HONESTY  \n"
     ]
    }
   ],
   "source": [
    "#Creates an empty dataframe\n",
    "recommendation_df = pd.DataFrame()\n",
    "\n",
    "#Now we take the weighted average\n",
    "recommendation_df['weighted average recommendation score'] = tempTopUsersRating['sum_weightedRating']/tempTopUsersRating['sum_similarityIndex']\n",
    "recommendation_df['Title'] = tempTopUsersRating.index\n",
    "print(recommendation_df.head(10))"
   ]
  },
  {
   "cell_type": "code",
   "execution_count": 16,
   "metadata": {
    "colab": {
     "base_uri": "https://localhost:8080/"
    },
    "id": "A1tNpC07Njuc",
    "outputId": "ba39731b-81a8-4fec-e381-c813cd0cbf5b"
   },
   "outputs": [
    {
     "name": "stdout",
     "output_type": "stream",
     "text": [
      "                                            weighted average recommendation score  \\\n",
      "Title                                                                               \n",
      "Natsir: Politik Santun di Antara Dua Rezim                                    5.0   \n",
      "Rose of Versailles Vol. 4                                                     5.0   \n",
      "Kings of Heaven                                                               5.0   \n",
      "Kings of the Wyld                                                             5.0   \n",
      "Lady Mitsuko                                                                  5.0   \n",
      "...                                                                           ...   \n",
      "Zoe's Tale                                                                    NaN   \n",
      "ハピネス 1                                                                        NaN   \n",
      "그와 그와 그 [Geuwa Geuwa Geu]                                                     NaN   \n",
      "술탄의 꽃 [Sultan'eui Ggoch]                                                      NaN   \n",
      "아기가 생겼어요 1                                                                    NaN   \n",
      "\n",
      "                                                                                 Title  \n",
      "Title                                                                                   \n",
      "Natsir: Politik Santun di Antara Dua Rezim  Natsir: Politik Santun di Antara Dua Rezim  \n",
      "Rose of Versailles Vol. 4                                    Rose of Versailles Vol. 4  \n",
      "Kings of Heaven                                                        Kings of Heaven  \n",
      "Kings of the Wyld                                                    Kings of the Wyld  \n",
      "Lady Mitsuko                                                              Lady Mitsuko  \n",
      "...                                                                                ...  \n",
      "Zoe's Tale                                                                  Zoe's Tale  \n",
      "ハピネス 1                                                                          ハピネス 1  \n",
      "그와 그와 그 [Geuwa Geuwa Geu]                                    그와 그와 그 [Geuwa Geuwa Geu]  \n",
      "술탄의 꽃 [Sultan'eui Ggoch]                                      술탄의 꽃 [Sultan'eui Ggoch]  \n",
      "아기가 생겼어요 1                                                                  아기가 생겼어요 1  \n",
      "\n",
      "[7366 rows x 2 columns]\n"
     ]
    }
   ],
   "source": [
    "recommendation_df = recommendation_df.sort_values(by='weighted average recommendation score', ascending=False)\n",
    "print(recommendation_df)\n"
   ]
  },
  {
   "cell_type": "code",
   "execution_count": 17,
   "metadata": {
    "colab": {
     "base_uri": "https://localhost:8080/"
    },
    "id": "5liD4u2aNjud",
    "outputId": "916d4222-93aa-4812-da3b-ebcc92e955af"
   },
   "outputs": [
    {
     "name": "stdout",
     "output_type": "stream",
     "text": [
      "      UserID                                      Title          ISBN  Rating\n",
      "1          1  Assassin's Quest: The Illustrated Edition  9.780593e+12       2\n",
      "2          1                           The Blade Itself  9.780575e+12       5\n",
      "3          1                     Last Argument of Kings  9.780575e+12       5\n",
      "4          1                                 Warbreaker  9.781939e+12       5\n",
      "5          1                          A Game of Thrones  9.780008e+12       5\n",
      "...      ...                                        ...           ...     ...\n",
      "7955       5  At The End of the Day I Burst Into Flames  9.781948e+12       5\n",
      "7956       5                              Christmas Eve           NaN       4\n",
      "7957       5                    A Cosmology of Monsters  9.781525e+12       5\n",
      "7958       5                            Halloween Fiend           NaN       4\n",
      "7959       5                     Walk the Darkness Down  9.781951e+12       5\n",
      "\n",
      "[7726 rows x 4 columns]\n"
     ]
    }
   ],
   "source": [
    "recommended_books=ratings_df.loc[ratings_df['Title'].isin(recommendation_df['Title'])]\n",
    "recommended_books=recommended_books.loc[~recommended_books.Title.isin(userSubset['Title'])]\n",
    "print(recommended_books)"
   ]
  },
  {
   "cell_type": "code",
   "execution_count": 18,
   "metadata": {
    "id": "1z7iFHhVNjud"
   },
   "outputs": [],
   "source": [
    "recommended_books.to_csv('recommended.csv')"
   ]
  }
 ],
 "metadata": {
  "colab": {
   "provenance": []
  },
  "kernelspec": {
   "display_name": "base",
   "language": "python",
   "name": "python3"
  },
  "language_info": {
   "codemirror_mode": {
    "name": "ipython",
    "version": 3
   },
   "file_extension": ".py",
   "mimetype": "text/x-python",
   "name": "python",
   "nbconvert_exporter": "python",
   "pygments_lexer": "ipython3",
   "version": "3.8.8"
  },
  "vscode": {
   "interpreter": {
    "hash": "a21a4d8430ca198249bdb796151de090f5777c48c0e324da81ff190d429db2a2"
   }
  }
 },
 "nbformat": 4,
 "nbformat_minor": 4
}
