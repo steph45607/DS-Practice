{
 "cells": [
  {
   "cell_type": "code",
   "execution_count": 10,
   "metadata": {},
   "outputs": [
    {
     "name": "stdout",
     "output_type": "stream",
     "text": [
      "this: \n",
      "[<h3 class=\"dataset-heading\">\n",
      "<a href=\"/dataset/tiger-line-shapefile-2022-county-portsmouth-city-va-address-ranges-relationship-file\">TIGER/Line Shapefile, 2022, County, Portsmouth city, VA, Address Ranges Relationship File</a>\n",
      "</h3>, <h3 class=\"dataset-heading\">\n",
      "<a href=\"/dataset/tiger-line-shapefile-2022-county-matagorda-county-tx-address-ranges-relationship-file\">TIGER/Line Shapefile, 2022, County, Matagorda County, TX, Address Ranges Relationship File</a>\n",
      "</h3>, <h3 class=\"dataset-heading\">\n",
      "<a href=\"/dataset/tiger-line-shapefile-current-county-geneva-county-al-all-roads1\">TIGER/Line Shapefile, Current, County, Geneva County, AL, All Roads</a>\n",
      "</h3>, <h3 class=\"dataset-heading\">\n",
      "<a href=\"/dataset/tiger-line-shapefile-2022-county-catawba-county-nc-topological-faces-area-hydrography-relations\">TIGER/Line Shapefile, 2022, County, Catawba County, NC, Topological Faces-Area Hydrography Relationship File</a>\n",
      "</h3>, <h3 class=\"dataset-heading\">\n",
      "<a href=\"/dataset/tiger-line-shapefile-2022-county-lewis-county-mo-address-ranges-relationship-file\">TIGER/Line Shapefile, 2022, County, Lewis County, MO, Address Ranges Relationship File</a>\n",
      "</h3>, <h3 class=\"dataset-heading\">\n",
      "<a href=\"/dataset/tiger-line-shapefile-2022-county-broomfield-county-co-topological-faces-area-hydrography-relati\">TIGER/Line Shapefile, 2022, County, Broomfield County, CO, Topological Faces-Area Hydrography Relationship File</a>\n",
      "</h3>, <h3 class=\"dataset-heading\">\n",
      "<a href=\"/dataset/tiger-line-shapefile-2022-county-johnson-county-ne-all-lines\">TIGER/Line Shapefile, 2022, County, Johnson County, NE, All Lines</a>\n",
      "</h3>, <h3 class=\"dataset-heading\">\n",
      "<a href=\"/dataset/tiger-line-shapefile-2022-county-vermillion-county-in-topological-faces-area-hydrography-relati\">TIGER/Line Shapefile, 2022, County, Vermillion County, IN, Topological Faces-Area Hydrography Relationship File</a>\n",
      "</h3>, <h3 class=\"dataset-heading\">\n",
      "<a href=\"/dataset/tiger-line-shapefile-2022-county-shelby-county-in-address-ranges-relationship-file\">TIGER/Line Shapefile, 2022, County, Shelby County, IN, Address Ranges Relationship File</a>\n",
      "</h3>, <h3 class=\"dataset-heading\">\n",
      "<a href=\"/dataset/tiger-line-shapefile-2022-county-butte-county-ca-address-range-feature\">TIGER/Line Shapefile, 2022, County, Butte County, CA, Address Range-Feature</a>\n",
      "</h3>, <h3 class=\"dataset-heading\">\n",
      "<a href=\"/dataset/tiger-line-shapefile-2022-county-lee-county-fl-address-range-feature\">TIGER/Line Shapefile, 2022, County, Lee County, FL, Address Range-Feature</a>\n",
      "</h3>, <h3 class=\"dataset-heading\">\n",
      "<a href=\"/dataset/tiger-line-shapefile-2022-county-pend-oreille-county-wa-topological-faces-area-hydrography-rela\">TIGER/Line Shapefile, 2022, County, Pend Oreille County, WA, Topological Faces-Area Hydrography Relationship File</a>\n",
      "</h3>, <h3 class=\"dataset-heading\">\n",
      "<a href=\"/dataset/tiger-line-shapefile-2022-county-riverside-county-ca-linear-hydrography\">TIGER/Line Shapefile, 2022, County, Riverside County, CA, Linear Hydrography</a>\n",
      "</h3>, <h3 class=\"dataset-heading\">\n",
      "<a href=\"/dataset/tiger-line-shapefile-2022-county-mobile-county-al-all-lines\">TIGER/Line Shapefile, 2022, County, Mobile County, AL, All Lines</a>\n",
      "</h3>, <h3 class=\"dataset-heading\">\n",
      "<a href=\"/dataset/tiger-line-shapefile-2022-county-coryell-county-tx-feature-names-relationship-file\">TIGER/Line Shapefile, 2022, County, Coryell County, TX, Feature Names Relationship File</a>\n",
      "</h3>, <h3 class=\"dataset-heading\">\n",
      "<a href=\"/dataset/tiger-line-shapefile-2022-county-morgan-county-in-area-hydrography\">TIGER/Line Shapefile, 2022, County, Morgan County, IN, Area Hydrography</a>\n",
      "</h3>, <h3 class=\"dataset-heading\">\n",
      "<a href=\"/dataset/tiger-line-shapefile-2022-county-windsor-county-vt-linear-hydrography\">TIGER/Line Shapefile, 2022, County, Windsor County, VT, Linear Hydrography</a>\n",
      "</h3>, <h3 class=\"dataset-heading\">\n",
      "<a href=\"/dataset/tiger-line-shapefile-2022-county-warren-county-ia-feature-names-relationship-file\">TIGER/Line Shapefile, 2022, County, Warren County, IA, Feature Names Relationship File</a>\n",
      "</h3>, <h3 class=\"dataset-heading\">\n",
      "<a href=\"/dataset/tiger-line-shapefile-2022-county-pitt-county-nc-feature-names-relationship-file\">TIGER/Line Shapefile, 2022, County, Pitt County, NC, Feature Names Relationship File</a>\n",
      "</h3>, <h3 class=\"dataset-heading\">\n",
      "<a href=\"/dataset/tiger-line-shapefile-2022-county-hamilton-county-oh-address-ranges-relationship-file\">TIGER/Line Shapefile, 2022, County, Hamilton County, OH, Address Ranges Relationship File</a>\n",
      "</h3>]\n"
     ]
    }
   ],
   "source": [
    "from bs4 import BeautifulSoup\n",
    "import requests\n",
    "import re\n",
    "import pandas as pd\n",
    "\n",
    "url = \"http://catalog.data.gov/dataset?q=&sort=metadata_created+desc\"\n",
    "response = requests.get(url)\n",
    "soup = BeautifulSoup(response.text, 'html')\n",
    "print(\"this: \")\n",
    "x = soup.select('h3')\n"
   ]
  }
 ],
 "metadata": {
  "kernelspec": {
   "display_name": "Python 3.8.8 ('base')",
   "language": "python",
   "name": "python3"
  },
  "language_info": {
   "codemirror_mode": {
    "name": "ipython",
    "version": 3
   },
   "file_extension": ".py",
   "mimetype": "text/x-python",
   "name": "python",
   "nbconvert_exporter": "python",
   "pygments_lexer": "ipython3",
   "version": "3.8.8"
  },
  "orig_nbformat": 4,
  "vscode": {
   "interpreter": {
    "hash": "a21a4d8430ca198249bdb796151de090f5777c48c0e324da81ff190d429db2a2"
   }
  }
 },
 "nbformat": 4,
 "nbformat_minor": 2
}
