{
 "cells": [
  {
   "cell_type": "code",
   "execution_count": 1,
   "metadata": {},
   "outputs": [],
   "source": [
    "from bs4 import BeautifulSoup\n",
    "import requests\n",
    "import html5lib\n",
    "import re\n",
    "import pandas as pd\n",
    "import numpy as np"
   ]
  },
  {
   "cell_type": "code",
   "execution_count": 90,
   "metadata": {},
   "outputs": [],
   "source": [
    "cookies = {\n",
    "    'ccsid': '668-8707266-8901325',\n",
    "    '__qca': 'P0-1002348396-1661184067604',\n",
    "    'p': 'ZqHh-ArV88dYkVHfgapFDgVJRXU5lLzNc4VfzdNPfI5ZMVgd',\n",
    "    'likely_has_account': 'true',\n",
    "    'srb_8': '0_wl',\n",
    "    'locale': 'en',\n",
    "    'u': 'oTJu21ixofG3HvrbsDKN1hg8e8FfKW_FUT1R8ZnFKULdyBce',\n",
    "    'csm-sid': '696-1026276-2871101',\n",
    "    'logged_out_browsing_page_count': '2',\n",
    "    '_session_id2': 'e2801ab93fb91a13e46c00233a052a93',\n",
    "}\n",
    "\n",
    "headers = {\n",
    "    'Accept': 'text/html,application/xhtml+xml,application/xml;q=0.9,image/avif,image/webp,image/apng,*/*;q=0.8,application/signed-exchange;v=b3;q=0.9',\n",
    "    'Accept-Language': 'en-US,en;q=0.9,id;q=0.8',\n",
    "    'Cache-Control': 'max-age=0',\n",
    "    'Connection': 'keep-alive',\n",
    "    # 'Cookie': 'ccsid=668-8707266-8901325; __qca=P0-1002348396-1661184067604; p=ZqHh-ArV88dYkVHfgapFDgVJRXU5lLzNc4VfzdNPfI5ZMVgd; likely_has_account=true; srb_8=0_wl; locale=en; u=oTJu21ixofG3HvrbsDKN1hg8e8FfKW_FUT1R8ZnFKULdyBce; csm-sid=696-1026276-2871101; logged_out_browsing_page_count=2; _session_id2=e2801ab93fb91a13e46c00233a052a93',\n",
    "    'If-None-Match': 'W/\"d0bdc5d451dc0582cacda7aca354c860\"',\n",
    "    'Referer': 'https://www.goodreads.com/review/list/127864674-rachael?utf8=%E2%9C%93&order=d&sort=review&view=reviews&title=rachael&per_page=100',\n",
    "    'Sec-Fetch-Dest': 'document',\n",
    "    'Sec-Fetch-Mode': 'navigate',\n",
    "    'Sec-Fetch-Site': 'same-origin',\n",
    "    'Sec-Fetch-User': '?1',\n",
    "    'Upgrade-Insecure-Requests': '1',\n",
    "    'User-Agent': 'Mozilla/5.0 (Macintosh; Intel Mac OS X 10_15_7) AppleWebKit/537.36 (KHTML, like Gecko) Chrome/108.0.0.0 Safari/537.36',\n",
    "    'sec-ch-ua': '\"Not?A_Brand\";v=\"8\", \"Chromium\";v=\"108\", \"Google Chrome\";v=\"108\"',\n",
    "    'sec-ch-ua-mobile': '?0',\n",
    "    'sec-ch-ua-platform': '\"macOS\"',\n",
    "}"
   ]
  },
  {
   "cell_type": "code",
   "execution_count": 91,
   "metadata": {},
   "outputs": [],
   "source": [
    "def clean_title(raw_title):\n",
    "    if raw_title is None:\n",
    "        return 0\n",
    "    result = re.search(r\"(.*)\\n(\\W*)(.*)\", raw_title)\n",
    "    if result is None:\n",
    "        return 0\n",
    "    else:\n",
    "        return result.group(3)\n",
    "\n",
    "def clean_isbn(raw_isbn):\n",
    "    if raw_isbn is None:\n",
    "        return 0\n",
    "    result = re.search(r\"(isbn13) *(\\d*)\\n\", raw_isbn)\n",
    "    if result == None:\n",
    "        return 0\n",
    "    else:\n",
    "        return result.group(2)\n",
    "\n",
    "def clean_rating(raw_rating):\n",
    "    if raw_rating is None:\n",
    "        return 0\n",
    "    result = re.search(r\"(.*)\\n(\\W*)(.*)\", raw_rating)\n",
    "    if result is None:\n",
    "        return 0\n",
    "    else:\n",
    "        return result.group(3)"
   ]
  },
  {
   "cell_type": "code",
   "execution_count": 141,
   "metadata": {},
   "outputs": [
    {
     "name": "stdout",
     "output_type": "stream",
     "text": [
      "100\n",
      "100\n",
      "100\n",
      "100\n",
      "100\n",
      "100\n",
      "100\n"
     ]
    },
    {
     "data": {
      "text/html": [
       "<div>\n",
       "<style scoped>\n",
       "    .dataframe tbody tr th:only-of-type {\n",
       "        vertical-align: middle;\n",
       "    }\n",
       "\n",
       "    .dataframe tbody tr th {\n",
       "        vertical-align: top;\n",
       "    }\n",
       "\n",
       "    .dataframe thead th {\n",
       "        text-align: right;\n",
       "    }\n",
       "</style>\n",
       "<table border=\"1\" class=\"dataframe\">\n",
       "  <thead>\n",
       "    <tr style=\"text-align: right;\">\n",
       "      <th></th>\n",
       "      <th>UserID</th>\n",
       "      <th>Title</th>\n",
       "      <th>ISBN</th>\n",
       "      <th>Rating</th>\n",
       "    </tr>\n",
       "  </thead>\n",
       "  <tbody>\n",
       "    <tr>\n",
       "      <th>0</th>\n",
       "      <td>6</td>\n",
       "      <td>Six of Crows</td>\n",
       "      <td>9781627795098</td>\n",
       "      <td>it was amazing</td>\n",
       "    </tr>\n",
       "    <tr>\n",
       "      <th>1</th>\n",
       "      <td>6</td>\n",
       "      <td>Empire of Storms</td>\n",
       "      <td>9781408872895</td>\n",
       "      <td>it was amazing</td>\n",
       "    </tr>\n",
       "    <tr>\n",
       "      <th>2</th>\n",
       "      <td>6</td>\n",
       "      <td>A Court of Wings and Ruin</td>\n",
       "      <td></td>\n",
       "      <td>it was amazing</td>\n",
       "    </tr>\n",
       "    <tr>\n",
       "      <th>3</th>\n",
       "      <td>6</td>\n",
       "      <td>To Kill a Kingdom</td>\n",
       "      <td>9781250112682</td>\n",
       "      <td>really liked it</td>\n",
       "    </tr>\n",
       "    <tr>\n",
       "      <th>4</th>\n",
       "      <td>6</td>\n",
       "      <td>A Reaper at the Gates</td>\n",
       "      <td>9780448494500</td>\n",
       "      <td>it was amazing</td>\n",
       "    </tr>\n",
       "  </tbody>\n",
       "</table>\n",
       "</div>"
      ],
      "text/plain": [
       "   UserID                      Title           ISBN           Rating\n",
       "0       6               Six of Crows  9781627795098   it was amazing\n",
       "1       6           Empire of Storms  9781408872895   it was amazing\n",
       "2       6  A Court of Wings and Ruin                  it was amazing\n",
       "3       6          To Kill a Kingdom  9781250112682  really liked it\n",
       "4       6      A Reaper at the Gates  9780448494500   it was amazing"
      ]
     },
     "execution_count": 141,
     "metadata": {},
     "output_type": "execute_result"
    }
   ],
   "source": [
    "books = []\n",
    "for page in range(1,8):\n",
    "    response = requests.get(f\"https://www.goodreads.com/review/list/52491901-lena?order=d&page={page}&per_page=100&sort=review&utf8=%E2%9C%93&view=reviews\", cookies=cookies, headers=headers)\n",
    "    html_soup = BeautifulSoup(response.text, 'html5lib')\n",
    "    book_container = html_soup.find_all('tr', class_ = \"bookalike review\")\n",
    "    id = 6\n",
    "    print(len(book_container))\n",
    "    for book in book_container:\n",
    "        title = clean_title(book.find('td', class_ = \"field title\").text)\n",
    "        isbn = clean_isbn(book.find('td', class_ = \"field isbn13\").text)\n",
    "        rating = clean_rating(book.find('td', class_ = \"field rating\").text)\n",
    "        book_data = [id, title, isbn, rating]\n",
    "        books.append(book_data)\n",
    "books = pd.DataFrame(books, columns=[\"UserID\", \"Title\", \"ISBN\", \"Rating\"])\n",
    "books.head()\n"
   ]
  },
  {
   "cell_type": "code",
   "execution_count": 142,
   "metadata": {},
   "outputs": [],
   "source": [
    "books.to_csv(\"UserRanking_Lena.csv\", index = False)"
   ]
  },
  {
   "cell_type": "code",
   "execution_count": 145,
   "metadata": {},
   "outputs": [],
   "source": [
    "df = pd.read_csv(\"joinedUserReview.csv\")\n",
    "\n",
    "clean = df[df['Rating'].notna()]\n",
    "clean.loc[clean['Rating']== 'did not like it', 'Rating'] = 1\n",
    "clean.loc[clean['Rating']== 'it was ok', 'Rating'] = 2\n",
    "clean.loc[clean['Rating']== 'liked it', 'Rating'] = 3\n",
    "clean.loc[clean['Rating']== 'really liked it', 'Rating'] = 4\n",
    "clean.loc[clean['Rating']== 'it was amazing', 'Rating'] = 5\n",
    "\n"
   ]
  },
  {
   "cell_type": "code",
   "execution_count": 146,
   "metadata": {},
   "outputs": [],
   "source": [
    "clean.to_csv(\"joinedUserReview.csv\", index=False)"
   ]
  },
  {
   "cell_type": "code",
   "execution_count": null,
   "metadata": {},
   "outputs": [],
   "source": [
    "data = pd.read_csv('joinedUserReview.csv')\n"
   ]
  }
 ],
 "metadata": {
  "kernelspec": {
   "display_name": "base",
   "language": "python",
   "name": "python3"
  },
  "language_info": {
   "codemirror_mode": {
    "name": "ipython",
    "version": 3
   },
   "file_extension": ".py",
   "mimetype": "text/x-python",
   "name": "python",
   "nbconvert_exporter": "python",
   "pygments_lexer": "ipython3",
   "version": "3.8.8"
  },
  "orig_nbformat": 4,
  "vscode": {
   "interpreter": {
    "hash": "a21a4d8430ca198249bdb796151de090f5777c48c0e324da81ff190d429db2a2"
   }
  }
 },
 "nbformat": 4,
 "nbformat_minor": 2
}
